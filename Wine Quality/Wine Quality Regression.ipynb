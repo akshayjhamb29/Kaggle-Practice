{
  "cells": [
    {
      "metadata": {
        "trusted": true,
        "_uuid": "dd7b70a266c16aebb45b5269164e5d02e2b7ffc4"
      },
      "cell_type": "code",
      "source": "import numpy as np\nimport pandas as pd\nimport matplotlib.pyplot as plt\nimport seaborn as sns\nfrom sklearn import linear_model\nfrom sklearn.model_selection import train_test_split\nfrom sklearn.metrics import mean_squared_error\nfrom sklearn.linear_model import LinearRegression\nfrom sklearn.preprocessing import PolynomialFeatures\n%matplotlib inline",
      "execution_count": null,
      "outputs": []
    },
    {
      "metadata": {
        "trusted": true,
        "_uuid": "e5bea5b503ffc7f47be3f7cd7359847d60b1104e"
      },
      "cell_type": "code",
      "source": "data=pd.read_csv('../input/winequality-red.csv')",
      "execution_count": null,
      "outputs": []
    },
    {
      "metadata": {
        "trusted": true,
        "_uuid": "66bdae156f783b1b2da180ca39a75d2c491051bf"
      },
      "cell_type": "code",
      "source": "data.head",
      "execution_count": null,
      "outputs": []
    },
    {
      "metadata": {
        "trusted": true,
        "_uuid": "c012e6a191020edde8d5ddfaec3afe5d7646a69c"
      },
      "cell_type": "code",
      "source": "data.info()",
      "execution_count": null,
      "outputs": []
    },
    {
      "metadata": {
        "trusted": true,
        "_uuid": "8accbb6e455d3c41387a72ce2b2d500ec2b0b6fa"
      },
      "cell_type": "code",
      "source": "data.describe()",
      "execution_count": null,
      "outputs": []
    },
    {
      "metadata": {
        "trusted": true,
        "_uuid": "ca41b75a51279438e4dfc04a3f4a09b6dcb745a1"
      },
      "cell_type": "code",
      "source": "data[data.isnull()=='True'].count()",
      "execution_count": null,
      "outputs": []
    },
    {
      "metadata": {
        "trusted": true,
        "_uuid": "07042c34811fff9d074ad67e94519f74106473cd"
      },
      "cell_type": "code",
      "source": "features = ['fixed acidity','volatile acidity','citric acid','residual sugar','chlorides',\n            'free sulfur dioxide','total sulfur dioxide','density','pH','sulphates','alcohol']\ntarget = ['quality']",
      "execution_count": null,
      "outputs": []
    },
    {
      "metadata": {
        "_uuid": "4522c8b1214441eefd934aec9e17058b65d25ab8"
      },
      "cell_type": "markdown",
      "source": "# Linear Regression Analysis of Wine Quality vs Age"
    },
    {
      "metadata": {
        "trusted": true,
        "_uuid": "5f5f0f3e43d230e7df1e5c2e7302a61c89c6771c"
      },
      "cell_type": "code",
      "source": "X = data[features]\ny = data[target]\n\nX_train, X_test, y_train, y_test = train_test_split(X, y, test_size=0.25)\n\nmodel = linear_model.LinearRegression()\nmodel = model.fit(y_train, X_train)\npredicted_data = model.predict(y_test)\npredicted_data = np.round_(predicted_data)\n\nprint (mean_squared_error(X_test,predicted_data))\n\n\nprint (predicted_data)",
      "execution_count": null,
      "outputs": []
    },
    {
      "metadata": {
        "_uuid": "c624d17dd5e3885192411a699ee5ed18d8d6fe34"
      },
      "cell_type": "markdown",
      "source": "# Polynomial Regression\n\n"
    },
    {
      "metadata": {
        "trusted": true,
        "_uuid": "b35477e362ee7ae2d67248dc8954c04b28f6e9c3"
      },
      "cell_type": "code",
      "source": "\nX_train, X_test, y_train, y_test = train_test_split(X, y, test_size=0.2)\nmodel = PolynomialFeatures(degree= 4)\ny_ = model.fit_transform(y)\ny_test_ = model.fit_transform(y_test)\n\n\nlg = LinearRegression()\nlg.fit(y_,X)\npredicted_data = lg.predict(y_test_)\npredicted_data = np.round_(predicted_data)\n\nprint (mean_squared_error(X_test,predicted_data))\n\nprint (predicted_data)\n",
      "execution_count": null,
      "outputs": []
    },
    {
      "metadata": {
        "_uuid": "26bca41bbfb401b9aeadec28bd8e680df105aa32"
      },
      "cell_type": "markdown",
      "source": "\n\n"
    },
    {
      "metadata": {
        "trusted": true,
        "_uuid": "84d2ddac699daeea78ee9f513ebcd335a180b44b"
      },
      "cell_type": "code",
      "source": "",
      "execution_count": null,
      "outputs": []
    },
    {
      "metadata": {
        "trusted": true,
        "_uuid": "1e62e624213c85fe8b5c64402efe0869b9b4e72b"
      },
      "cell_type": "code",
      "source": "",
      "execution_count": null,
      "outputs": []
    },
    {
      "metadata": {
        "trusted": true,
        "_uuid": "5dd8c009be013305b05a7de031bb7f71d33e523f"
      },
      "cell_type": "code",
      "source": "",
      "execution_count": null,
      "outputs": []
    },
    {
      "metadata": {
        "trusted": true,
        "_uuid": "cb78ef1cd37ef0b8a3f77c03e804c66b625b2dee"
      },
      "cell_type": "code",
      "source": "",
      "execution_count": null,
      "outputs": []
    },
    {
      "metadata": {
        "trusted": true,
        "_uuid": "3711f9e450b52a27a6ca062657f7927c4a7a8f21"
      },
      "cell_type": "code",
      "source": "",
      "execution_count": null,
      "outputs": []
    },
    {
      "metadata": {
        "trusted": true,
        "_uuid": "a0b0147f4331ea9ee6af46bf06a45346ca0c5add"
      },
      "cell_type": "code",
      "source": "",
      "execution_count": null,
      "outputs": []
    }
  ],
  "metadata": {
    "kernelspec": {
      "display_name": "Python 3",
      "language": "python",
      "name": "python3"
    },
    "language_info": {
      "name": "python",
      "version": "3.6.6",
      "mimetype": "text/x-python",
      "codemirror_mode": {
        "name": "ipython",
        "version": 3
      },
      "pygments_lexer": "ipython3",
      "nbconvert_exporter": "python",
      "file_extension": ".py"
    }
  },
  "nbformat": 4,
  "nbformat_minor": 1
}