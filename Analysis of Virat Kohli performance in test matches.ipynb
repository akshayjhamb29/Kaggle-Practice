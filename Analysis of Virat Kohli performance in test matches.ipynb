{
 "cells": [
  {
   "cell_type": "code",
   "execution_count": null,
   "metadata": {},
   "outputs": [],
   "source": []
  },
  {
   "cell_type": "code",
   "execution_count": 528,
   "metadata": {},
   "outputs": [],
   "source": [
    "import numpy as np\n",
    "import pandas as pd\n",
    "import matplotlib.pyplot as plt\n",
    "import seaborn as sns\n",
    "%matplotlib inline"
   ]
  },
  {
   "cell_type": "code",
   "execution_count": 529,
   "metadata": {},
   "outputs": [
    {
     "data": {
      "text/plain": [
       "pandas.core.series.Series"
      ]
     },
     "execution_count": 529,
     "metadata": {},
     "output_type": "execute_result"
    }
   ],
   "source": [
    "data=pd.read_csv('kohli-centuries-test.csv')\n",
    "type(data['Bat2']=='DNB')"
   ]
  },
  {
   "cell_type": "code",
   "execution_count": 530,
   "metadata": {},
   "outputs": [
    {
     "data": {
      "text/html": [
       "<div>\n",
       "<style scoped>\n",
       "    .dataframe tbody tr th:only-of-type {\n",
       "        vertical-align: middle;\n",
       "    }\n",
       "\n",
       "    .dataframe tbody tr th {\n",
       "        vertical-align: top;\n",
       "    }\n",
       "\n",
       "    .dataframe thead th {\n",
       "        text-align: right;\n",
       "    }\n",
       "</style>\n",
       "<table border=\"1\" class=\"dataframe\">\n",
       "  <thead>\n",
       "    <tr style=\"text-align: right;\">\n",
       "      <th></th>\n",
       "      <th>Bat1</th>\n",
       "      <th>Bat2</th>\n",
       "      <th>Runs</th>\n",
       "      <th>Wkts</th>\n",
       "      <th>Conc</th>\n",
       "      <th>Ct</th>\n",
       "      <th>St</th>\n",
       "      <th>Unnamed: 7</th>\n",
       "      <th>Opposition</th>\n",
       "      <th>Ground</th>\n",
       "      <th>Start Date</th>\n",
       "    </tr>\n",
       "  </thead>\n",
       "  <tbody>\n",
       "    <tr>\n",
       "      <th>0</th>\n",
       "      <td>4</td>\n",
       "      <td>15</td>\n",
       "      <td>19</td>\n",
       "      <td>-</td>\n",
       "      <td>-</td>\n",
       "      <td>2</td>\n",
       "      <td>0</td>\n",
       "      <td>NaN</td>\n",
       "      <td>v West Indies</td>\n",
       "      <td>Kingston</td>\n",
       "      <td>20-Jun-11</td>\n",
       "    </tr>\n",
       "    <tr>\n",
       "      <th>1</th>\n",
       "      <td>0</td>\n",
       "      <td>27</td>\n",
       "      <td>27</td>\n",
       "      <td>-</td>\n",
       "      <td>-</td>\n",
       "      <td>2</td>\n",
       "      <td>0</td>\n",
       "      <td>NaN</td>\n",
       "      <td>v West Indies</td>\n",
       "      <td>Bridgetown</td>\n",
       "      <td>28-Jun-11</td>\n",
       "    </tr>\n",
       "    <tr>\n",
       "      <th>2</th>\n",
       "      <td>30</td>\n",
       "      <td>DNB</td>\n",
       "      <td>30</td>\n",
       "      <td>-</td>\n",
       "      <td>-</td>\n",
       "      <td>1</td>\n",
       "      <td>0</td>\n",
       "      <td>NaN</td>\n",
       "      <td>v West Indies</td>\n",
       "      <td>Roseau</td>\n",
       "      <td>6-Jul-11</td>\n",
       "    </tr>\n",
       "    <tr>\n",
       "      <th>3</th>\n",
       "      <td>52</td>\n",
       "      <td>63</td>\n",
       "      <td>115</td>\n",
       "      <td>0</td>\n",
       "      <td>9</td>\n",
       "      <td>2</td>\n",
       "      <td>0</td>\n",
       "      <td>NaN</td>\n",
       "      <td>v West Indies</td>\n",
       "      <td>Mumbai</td>\n",
       "      <td>22-Nov-11</td>\n",
       "    </tr>\n",
       "    <tr>\n",
       "      <th>4</th>\n",
       "      <td>11</td>\n",
       "      <td>0</td>\n",
       "      <td>11</td>\n",
       "      <td>-</td>\n",
       "      <td>-</td>\n",
       "      <td>2</td>\n",
       "      <td>0</td>\n",
       "      <td>NaN</td>\n",
       "      <td>v Australia</td>\n",
       "      <td>Melbourne</td>\n",
       "      <td>26-Dec-11</td>\n",
       "    </tr>\n",
       "  </tbody>\n",
       "</table>\n",
       "</div>"
      ],
      "text/plain": [
       "  Bat1 Bat2 Runs Wkts Conc  Ct  St  Unnamed: 7     Opposition      Ground  \\\n",
       "0    4   15   19    -    -   2   0         NaN  v West Indies    Kingston   \n",
       "1    0   27   27    -    -   2   0         NaN  v West Indies  Bridgetown   \n",
       "2   30  DNB   30    -    -   1   0         NaN  v West Indies      Roseau   \n",
       "3   52   63  115    0    9   2   0         NaN  v West Indies      Mumbai   \n",
       "4   11    0   11    -    -   2   0         NaN    v Australia   Melbourne   \n",
       "\n",
       "  Start Date  \n",
       "0  20-Jun-11  \n",
       "1  28-Jun-11  \n",
       "2   6-Jul-11  \n",
       "3  22-Nov-11  \n",
       "4  26-Dec-11  "
      ]
     },
     "execution_count": 530,
     "metadata": {},
     "output_type": "execute_result"
    }
   ],
   "source": [
    "data.head()"
   ]
  },
  {
   "cell_type": "code",
   "execution_count": 531,
   "metadata": {},
   "outputs": [
    {
     "data": {
      "text/plain": [
       "Bat1          0\n",
       "Bat2          0\n",
       "Runs          0\n",
       "Wkts          0\n",
       "Conc          0\n",
       "Ct            0\n",
       "St            0\n",
       "Unnamed: 7    0\n",
       "Opposition    0\n",
       "Ground        0\n",
       "Start Date    0\n",
       "dtype: int64"
      ]
     },
     "execution_count": 531,
     "metadata": {},
     "output_type": "execute_result"
    }
   ],
   "source": [
    "data[data.isnull()=='True'].count()"
   ]
  },
  {
   "cell_type": "code",
   "execution_count": 532,
   "metadata": {},
   "outputs": [
    {
     "name": "stdout",
     "output_type": "stream",
     "text": [
      "<class 'pandas.core.frame.DataFrame'>\n",
      "RangeIndex: 69 entries, 0 to 68\n",
      "Data columns (total 11 columns):\n",
      "Bat1          69 non-null object\n",
      "Bat2          69 non-null object\n",
      "Runs          69 non-null object\n",
      "Wkts          69 non-null object\n",
      "Conc          69 non-null object\n",
      "Ct            69 non-null int64\n",
      "St            69 non-null int64\n",
      "Unnamed: 7    0 non-null float64\n",
      "Opposition    69 non-null object\n",
      "Ground        69 non-null object\n",
      "Start Date    69 non-null object\n",
      "dtypes: float64(1), int64(2), object(8)\n",
      "memory usage: 6.0+ KB\n"
     ]
    }
   ],
   "source": [
    "data.info()"
   ]
  },
  {
   "cell_type": "code",
   "execution_count": 533,
   "metadata": {},
   "outputs": [],
   "source": [
    "data['year'] = pd.DatetimeIndex(data['Start Date']).year\n"
   ]
  },
  {
   "cell_type": "code",
   "execution_count": 534,
   "metadata": {},
   "outputs": [
    {
     "name": "stdout",
     "output_type": "stream",
     "text": [
      "No. of Times Virat Kohli got out for 0:\n"
     ]
    },
    {
     "data": {
      "text/plain": [
       "6"
      ]
     },
     "execution_count": 534,
     "metadata": {},
     "output_type": "execute_result"
    }
   ],
   "source": [
    "print(\"No. of Times Virat Kohli got out for 0:\")\n",
    "((data.Bat1 == '0') |  (data.Bat2 == '0')).sum()"
   ]
  },
  {
   "cell_type": "code",
   "execution_count": 536,
   "metadata": {},
   "outputs": [
    {
     "name": "stdout",
     "output_type": "stream",
     "text": [
      "<class 'pandas.core.frame.DataFrame'>\n",
      "RangeIndex: 69 entries, 0 to 68\n",
      "Data columns (total 12 columns):\n",
      "Bat1          69 non-null object\n",
      "Bat2          69 non-null object\n",
      "Runs          69 non-null object\n",
      "Wkts          69 non-null object\n",
      "Conc          69 non-null object\n",
      "Ct            69 non-null int64\n",
      "St            69 non-null int64\n",
      "Unnamed: 7    0 non-null float64\n",
      "Opposition    69 non-null object\n",
      "Ground        69 non-null object\n",
      "Start Date    69 non-null object\n",
      "year          69 non-null int64\n",
      "dtypes: float64(1), int64(3), object(8)\n",
      "memory usage: 6.5+ KB\n"
     ]
    }
   ],
   "source": [
    "data.info()"
   ]
  },
  {
   "cell_type": "code",
   "execution_count": 537,
   "metadata": {},
   "outputs": [
    {
     "data": {
      "text/html": [
       "<div>\n",
       "<style scoped>\n",
       "    .dataframe tbody tr th:only-of-type {\n",
       "        vertical-align: middle;\n",
       "    }\n",
       "\n",
       "    .dataframe tbody tr th {\n",
       "        vertical-align: top;\n",
       "    }\n",
       "\n",
       "    .dataframe thead th {\n",
       "        text-align: right;\n",
       "    }\n",
       "</style>\n",
       "<table border=\"1\" class=\"dataframe\">\n",
       "  <thead>\n",
       "    <tr style=\"text-align: right;\">\n",
       "      <th></th>\n",
       "      <th>Bat1</th>\n",
       "      <th>Bat2</th>\n",
       "      <th>Runs</th>\n",
       "      <th>Wkts</th>\n",
       "      <th>Conc</th>\n",
       "      <th>Ct</th>\n",
       "      <th>St</th>\n",
       "      <th>Unnamed: 7</th>\n",
       "      <th>Opposition</th>\n",
       "      <th>Ground</th>\n",
       "      <th>Start Date</th>\n",
       "      <th>year</th>\n",
       "    </tr>\n",
       "  </thead>\n",
       "  <tbody>\n",
       "    <tr>\n",
       "      <th>0</th>\n",
       "      <td>4</td>\n",
       "      <td>15</td>\n",
       "      <td>19</td>\n",
       "      <td>-</td>\n",
       "      <td>-</td>\n",
       "      <td>2</td>\n",
       "      <td>0</td>\n",
       "      <td>NaN</td>\n",
       "      <td>v West Indies</td>\n",
       "      <td>Kingston</td>\n",
       "      <td>20-Jun-11</td>\n",
       "      <td>2011</td>\n",
       "    </tr>\n",
       "    <tr>\n",
       "      <th>1</th>\n",
       "      <td>0</td>\n",
       "      <td>27</td>\n",
       "      <td>27</td>\n",
       "      <td>-</td>\n",
       "      <td>-</td>\n",
       "      <td>2</td>\n",
       "      <td>0</td>\n",
       "      <td>NaN</td>\n",
       "      <td>v West Indies</td>\n",
       "      <td>Bridgetown</td>\n",
       "      <td>28-Jun-11</td>\n",
       "      <td>2011</td>\n",
       "    </tr>\n",
       "    <tr>\n",
       "      <th>2</th>\n",
       "      <td>30</td>\n",
       "      <td>DNB</td>\n",
       "      <td>30</td>\n",
       "      <td>-</td>\n",
       "      <td>-</td>\n",
       "      <td>1</td>\n",
       "      <td>0</td>\n",
       "      <td>NaN</td>\n",
       "      <td>v West Indies</td>\n",
       "      <td>Roseau</td>\n",
       "      <td>6-Jul-11</td>\n",
       "      <td>2011</td>\n",
       "    </tr>\n",
       "    <tr>\n",
       "      <th>3</th>\n",
       "      <td>52</td>\n",
       "      <td>63</td>\n",
       "      <td>115</td>\n",
       "      <td>0</td>\n",
       "      <td>9</td>\n",
       "      <td>2</td>\n",
       "      <td>0</td>\n",
       "      <td>NaN</td>\n",
       "      <td>v West Indies</td>\n",
       "      <td>Mumbai</td>\n",
       "      <td>22-Nov-11</td>\n",
       "      <td>2011</td>\n",
       "    </tr>\n",
       "    <tr>\n",
       "      <th>4</th>\n",
       "      <td>11</td>\n",
       "      <td>0</td>\n",
       "      <td>11</td>\n",
       "      <td>-</td>\n",
       "      <td>-</td>\n",
       "      <td>2</td>\n",
       "      <td>0</td>\n",
       "      <td>NaN</td>\n",
       "      <td>v Australia</td>\n",
       "      <td>Melbourne</td>\n",
       "      <td>26-Dec-11</td>\n",
       "      <td>2011</td>\n",
       "    </tr>\n",
       "  </tbody>\n",
       "</table>\n",
       "</div>"
      ],
      "text/plain": [
       "  Bat1 Bat2 Runs Wkts Conc  Ct  St  Unnamed: 7     Opposition      Ground  \\\n",
       "0    4   15   19    -    -   2   0         NaN  v West Indies    Kingston   \n",
       "1    0   27   27    -    -   2   0         NaN  v West Indies  Bridgetown   \n",
       "2   30  DNB   30    -    -   1   0         NaN  v West Indies      Roseau   \n",
       "3   52   63  115    0    9   2   0         NaN  v West Indies      Mumbai   \n",
       "4   11    0   11    -    -   2   0         NaN    v Australia   Melbourne   \n",
       "\n",
       "  Start Date  year  \n",
       "0  20-Jun-11  2011  \n",
       "1  28-Jun-11  2011  \n",
       "2   6-Jul-11  2011  \n",
       "3  22-Nov-11  2011  \n",
       "4  26-Dec-11  2011  "
      ]
     },
     "execution_count": 537,
     "metadata": {},
     "output_type": "execute_result"
    }
   ],
   "source": [
    "data.head()"
   ]
  },
  {
   "cell_type": "code",
   "execution_count": 538,
   "metadata": {},
   "outputs": [
    {
     "data": {
      "text/html": [
       "<div>\n",
       "<style scoped>\n",
       "    .dataframe tbody tr th:only-of-type {\n",
       "        vertical-align: middle;\n",
       "    }\n",
       "\n",
       "    .dataframe tbody tr th {\n",
       "        vertical-align: top;\n",
       "    }\n",
       "\n",
       "    .dataframe thead th {\n",
       "        text-align: right;\n",
       "    }\n",
       "</style>\n",
       "<table border=\"1\" class=\"dataframe\">\n",
       "  <thead>\n",
       "    <tr style=\"text-align: right;\">\n",
       "      <th></th>\n",
       "      <th>Bat1</th>\n",
       "      <th>Bat2</th>\n",
       "      <th>Runs</th>\n",
       "      <th>Wkts</th>\n",
       "      <th>Conc</th>\n",
       "      <th>Ct</th>\n",
       "      <th>St</th>\n",
       "      <th>Unnamed: 7</th>\n",
       "      <th>Opposition</th>\n",
       "      <th>Ground</th>\n",
       "      <th>Start Date</th>\n",
       "      <th>year</th>\n",
       "    </tr>\n",
       "  </thead>\n",
       "  <tbody>\n",
       "    <tr>\n",
       "      <th>0</th>\n",
       "      <td>4</td>\n",
       "      <td>15</td>\n",
       "      <td>19</td>\n",
       "      <td>-</td>\n",
       "      <td>-</td>\n",
       "      <td>2</td>\n",
       "      <td>0</td>\n",
       "      <td>NaN</td>\n",
       "      <td>West Indies</td>\n",
       "      <td>Kingston</td>\n",
       "      <td>20-Jun-11</td>\n",
       "      <td>2011</td>\n",
       "    </tr>\n",
       "    <tr>\n",
       "      <th>1</th>\n",
       "      <td>0</td>\n",
       "      <td>27</td>\n",
       "      <td>27</td>\n",
       "      <td>-</td>\n",
       "      <td>-</td>\n",
       "      <td>2</td>\n",
       "      <td>0</td>\n",
       "      <td>NaN</td>\n",
       "      <td>West Indies</td>\n",
       "      <td>Bridgetown</td>\n",
       "      <td>28-Jun-11</td>\n",
       "      <td>2011</td>\n",
       "    </tr>\n",
       "    <tr>\n",
       "      <th>2</th>\n",
       "      <td>30</td>\n",
       "      <td>0</td>\n",
       "      <td>30</td>\n",
       "      <td>-</td>\n",
       "      <td>-</td>\n",
       "      <td>1</td>\n",
       "      <td>0</td>\n",
       "      <td>NaN</td>\n",
       "      <td>West Indies</td>\n",
       "      <td>Roseau</td>\n",
       "      <td>6-Jul-11</td>\n",
       "      <td>2011</td>\n",
       "    </tr>\n",
       "    <tr>\n",
       "      <th>3</th>\n",
       "      <td>52</td>\n",
       "      <td>63</td>\n",
       "      <td>115</td>\n",
       "      <td>0</td>\n",
       "      <td>9</td>\n",
       "      <td>2</td>\n",
       "      <td>0</td>\n",
       "      <td>NaN</td>\n",
       "      <td>West Indies</td>\n",
       "      <td>Mumbai</td>\n",
       "      <td>22-Nov-11</td>\n",
       "      <td>2011</td>\n",
       "    </tr>\n",
       "    <tr>\n",
       "      <th>4</th>\n",
       "      <td>11</td>\n",
       "      <td>0</td>\n",
       "      <td>11</td>\n",
       "      <td>-</td>\n",
       "      <td>-</td>\n",
       "      <td>2</td>\n",
       "      <td>0</td>\n",
       "      <td>NaN</td>\n",
       "      <td>Australia</td>\n",
       "      <td>Melbourne</td>\n",
       "      <td>26-Dec-11</td>\n",
       "      <td>2011</td>\n",
       "    </tr>\n",
       "    <tr>\n",
       "      <th>5</th>\n",
       "      <td>23</td>\n",
       "      <td>9</td>\n",
       "      <td>32</td>\n",
       "      <td>0</td>\n",
       "      <td>23</td>\n",
       "      <td>0</td>\n",
       "      <td>0</td>\n",
       "      <td>NaN</td>\n",
       "      <td>Australia</td>\n",
       "      <td>Sydney</td>\n",
       "      <td>3-Jan-12</td>\n",
       "      <td>2012</td>\n",
       "    </tr>\n",
       "    <tr>\n",
       "      <th>6</th>\n",
       "      <td>44</td>\n",
       "      <td>75</td>\n",
       "      <td>119</td>\n",
       "      <td>-</td>\n",
       "      <td>-</td>\n",
       "      <td>1</td>\n",
       "      <td>0</td>\n",
       "      <td>NaN</td>\n",
       "      <td>Australia</td>\n",
       "      <td>Perth</td>\n",
       "      <td>13-Jan-12</td>\n",
       "      <td>2012</td>\n",
       "    </tr>\n",
       "    <tr>\n",
       "      <th>7</th>\n",
       "      <td>116</td>\n",
       "      <td>22</td>\n",
       "      <td>138</td>\n",
       "      <td>0</td>\n",
       "      <td>3</td>\n",
       "      <td>0</td>\n",
       "      <td>0</td>\n",
       "      <td>NaN</td>\n",
       "      <td>Australia</td>\n",
       "      <td>Adelaide</td>\n",
       "      <td>24-Jan-12</td>\n",
       "      <td>2012</td>\n",
       "    </tr>\n",
       "    <tr>\n",
       "      <th>8</th>\n",
       "      <td>58</td>\n",
       "      <td>0</td>\n",
       "      <td>58</td>\n",
       "      <td>-</td>\n",
       "      <td>-</td>\n",
       "      <td>4</td>\n",
       "      <td>0</td>\n",
       "      <td>NaN</td>\n",
       "      <td>New Zealand</td>\n",
       "      <td>Hyderabad (Deccan)</td>\n",
       "      <td>23-Aug-12</td>\n",
       "      <td>2012</td>\n",
       "    </tr>\n",
       "    <tr>\n",
       "      <th>9</th>\n",
       "      <td>103</td>\n",
       "      <td>51</td>\n",
       "      <td>154</td>\n",
       "      <td>-</td>\n",
       "      <td>-</td>\n",
       "      <td>0</td>\n",
       "      <td>0</td>\n",
       "      <td>NaN</td>\n",
       "      <td>New Zealand</td>\n",
       "      <td>Bengaluru</td>\n",
       "      <td>31-Aug-12</td>\n",
       "      <td>2012</td>\n",
       "    </tr>\n",
       "    <tr>\n",
       "      <th>10</th>\n",
       "      <td>19</td>\n",
       "      <td>14</td>\n",
       "      <td>33</td>\n",
       "      <td>-</td>\n",
       "      <td>-</td>\n",
       "      <td>1</td>\n",
       "      <td>0</td>\n",
       "      <td>NaN</td>\n",
       "      <td>England</td>\n",
       "      <td>Ahmedabad</td>\n",
       "      <td>15-Nov-12</td>\n",
       "      <td>2012</td>\n",
       "    </tr>\n",
       "    <tr>\n",
       "      <th>11</th>\n",
       "      <td>19</td>\n",
       "      <td>7</td>\n",
       "      <td>26</td>\n",
       "      <td>-</td>\n",
       "      <td>-</td>\n",
       "      <td>1</td>\n",
       "      <td>0</td>\n",
       "      <td>NaN</td>\n",
       "      <td>England</td>\n",
       "      <td>Mumbai</td>\n",
       "      <td>23-Nov-12</td>\n",
       "      <td>2012</td>\n",
       "    </tr>\n",
       "    <tr>\n",
       "      <th>12</th>\n",
       "      <td>6</td>\n",
       "      <td>20</td>\n",
       "      <td>26</td>\n",
       "      <td>-</td>\n",
       "      <td>-</td>\n",
       "      <td>0</td>\n",
       "      <td>0</td>\n",
       "      <td>NaN</td>\n",
       "      <td>England</td>\n",
       "      <td>Kolkata</td>\n",
       "      <td>5-Dec-12</td>\n",
       "      <td>2012</td>\n",
       "    </tr>\n",
       "    <tr>\n",
       "      <th>13</th>\n",
       "      <td>103</td>\n",
       "      <td>0</td>\n",
       "      <td>103</td>\n",
       "      <td>-</td>\n",
       "      <td>-</td>\n",
       "      <td>2</td>\n",
       "      <td>0</td>\n",
       "      <td>NaN</td>\n",
       "      <td>England</td>\n",
       "      <td>Nagpur</td>\n",
       "      <td>13-Dec-12</td>\n",
       "      <td>2012</td>\n",
       "    </tr>\n",
       "    <tr>\n",
       "      <th>14</th>\n",
       "      <td>107</td>\n",
       "      <td>0</td>\n",
       "      <td>107</td>\n",
       "      <td>-</td>\n",
       "      <td>-</td>\n",
       "      <td>1</td>\n",
       "      <td>0</td>\n",
       "      <td>NaN</td>\n",
       "      <td>Australia</td>\n",
       "      <td>Chennai</td>\n",
       "      <td>22-Feb-13</td>\n",
       "      <td>2013</td>\n",
       "    </tr>\n",
       "    <tr>\n",
       "      <th>15</th>\n",
       "      <td>34</td>\n",
       "      <td>0</td>\n",
       "      <td>34</td>\n",
       "      <td>-</td>\n",
       "      <td>-</td>\n",
       "      <td>1</td>\n",
       "      <td>0</td>\n",
       "      <td>NaN</td>\n",
       "      <td>Australia</td>\n",
       "      <td>Hyderabad (Deccan)</td>\n",
       "      <td>2-Mar-13</td>\n",
       "      <td>2013</td>\n",
       "    </tr>\n",
       "    <tr>\n",
       "      <th>16</th>\n",
       "      <td>67</td>\n",
       "      <td>34</td>\n",
       "      <td>101</td>\n",
       "      <td>-</td>\n",
       "      <td>-</td>\n",
       "      <td>1</td>\n",
       "      <td>0</td>\n",
       "      <td>NaN</td>\n",
       "      <td>Australia</td>\n",
       "      <td>Mohali</td>\n",
       "      <td>14-Mar-13</td>\n",
       "      <td>2013</td>\n",
       "    </tr>\n",
       "    <tr>\n",
       "      <th>17</th>\n",
       "      <td>1</td>\n",
       "      <td>41</td>\n",
       "      <td>42</td>\n",
       "      <td>-</td>\n",
       "      <td>-</td>\n",
       "      <td>2</td>\n",
       "      <td>0</td>\n",
       "      <td>NaN</td>\n",
       "      <td>Australia</td>\n",
       "      <td>Delhi</td>\n",
       "      <td>22-Mar-13</td>\n",
       "      <td>2013</td>\n",
       "    </tr>\n",
       "    <tr>\n",
       "      <th>18</th>\n",
       "      <td>3</td>\n",
       "      <td>0</td>\n",
       "      <td>3</td>\n",
       "      <td>-</td>\n",
       "      <td>-</td>\n",
       "      <td>1</td>\n",
       "      <td>0</td>\n",
       "      <td>NaN</td>\n",
       "      <td>West Indies</td>\n",
       "      <td>Kolkata</td>\n",
       "      <td>6-Nov-13</td>\n",
       "      <td>2013</td>\n",
       "    </tr>\n",
       "    <tr>\n",
       "      <th>19</th>\n",
       "      <td>57</td>\n",
       "      <td>0</td>\n",
       "      <td>57</td>\n",
       "      <td>-</td>\n",
       "      <td>-</td>\n",
       "      <td>0</td>\n",
       "      <td>0</td>\n",
       "      <td>NaN</td>\n",
       "      <td>West Indies</td>\n",
       "      <td>Mumbai</td>\n",
       "      <td>14-Nov-13</td>\n",
       "      <td>2013</td>\n",
       "    </tr>\n",
       "    <tr>\n",
       "      <th>20</th>\n",
       "      <td>119</td>\n",
       "      <td>96</td>\n",
       "      <td>215</td>\n",
       "      <td>0</td>\n",
       "      <td>18</td>\n",
       "      <td>0</td>\n",
       "      <td>0</td>\n",
       "      <td>NaN</td>\n",
       "      <td>South Africa</td>\n",
       "      <td>Johannesburg</td>\n",
       "      <td>18-Dec-13</td>\n",
       "      <td>2013</td>\n",
       "    </tr>\n",
       "    <tr>\n",
       "      <th>21</th>\n",
       "      <td>46</td>\n",
       "      <td>11</td>\n",
       "      <td>57</td>\n",
       "      <td>-</td>\n",
       "      <td>-</td>\n",
       "      <td>1</td>\n",
       "      <td>0</td>\n",
       "      <td>NaN</td>\n",
       "      <td>South Africa</td>\n",
       "      <td>Durban</td>\n",
       "      <td>26-Dec-13</td>\n",
       "      <td>2013</td>\n",
       "    </tr>\n",
       "    <tr>\n",
       "      <th>22</th>\n",
       "      <td>4</td>\n",
       "      <td>67</td>\n",
       "      <td>71</td>\n",
       "      <td>0</td>\n",
       "      <td>4</td>\n",
       "      <td>1</td>\n",
       "      <td>0</td>\n",
       "      <td>NaN</td>\n",
       "      <td>New Zealand</td>\n",
       "      <td>Auckland</td>\n",
       "      <td>6-Feb-14</td>\n",
       "      <td>2014</td>\n",
       "    </tr>\n",
       "    <tr>\n",
       "      <th>23</th>\n",
       "      <td>38</td>\n",
       "      <td>105</td>\n",
       "      <td>143</td>\n",
       "      <td>0</td>\n",
       "      <td>13</td>\n",
       "      <td>1</td>\n",
       "      <td>0</td>\n",
       "      <td>NaN</td>\n",
       "      <td>New Zealand</td>\n",
       "      <td>Wellington</td>\n",
       "      <td>14-Feb-14</td>\n",
       "      <td>2014</td>\n",
       "    </tr>\n",
       "    <tr>\n",
       "      <th>24</th>\n",
       "      <td>1</td>\n",
       "      <td>8</td>\n",
       "      <td>9</td>\n",
       "      <td>-</td>\n",
       "      <td>-</td>\n",
       "      <td>0</td>\n",
       "      <td>0</td>\n",
       "      <td>NaN</td>\n",
       "      <td>England</td>\n",
       "      <td>Nottingham</td>\n",
       "      <td>9-Jul-14</td>\n",
       "      <td>2014</td>\n",
       "    </tr>\n",
       "    <tr>\n",
       "      <th>25</th>\n",
       "      <td>25</td>\n",
       "      <td>0</td>\n",
       "      <td>25</td>\n",
       "      <td>-</td>\n",
       "      <td>-</td>\n",
       "      <td>0</td>\n",
       "      <td>0</td>\n",
       "      <td>NaN</td>\n",
       "      <td>England</td>\n",
       "      <td>Lord's</td>\n",
       "      <td>17-Jul-14</td>\n",
       "      <td>2014</td>\n",
       "    </tr>\n",
       "    <tr>\n",
       "      <th>26</th>\n",
       "      <td>39</td>\n",
       "      <td>28</td>\n",
       "      <td>67</td>\n",
       "      <td>-</td>\n",
       "      <td>-</td>\n",
       "      <td>0</td>\n",
       "      <td>0</td>\n",
       "      <td>NaN</td>\n",
       "      <td>England</td>\n",
       "      <td>Southampton</td>\n",
       "      <td>27-Jul-14</td>\n",
       "      <td>2014</td>\n",
       "    </tr>\n",
       "    <tr>\n",
       "      <th>27</th>\n",
       "      <td>0</td>\n",
       "      <td>7</td>\n",
       "      <td>7</td>\n",
       "      <td>-</td>\n",
       "      <td>-</td>\n",
       "      <td>0</td>\n",
       "      <td>0</td>\n",
       "      <td>NaN</td>\n",
       "      <td>England</td>\n",
       "      <td>Manchester</td>\n",
       "      <td>7-Aug-14</td>\n",
       "      <td>2014</td>\n",
       "    </tr>\n",
       "    <tr>\n",
       "      <th>28</th>\n",
       "      <td>6</td>\n",
       "      <td>20</td>\n",
       "      <td>26</td>\n",
       "      <td>-</td>\n",
       "      <td>-</td>\n",
       "      <td>1</td>\n",
       "      <td>0</td>\n",
       "      <td>NaN</td>\n",
       "      <td>England</td>\n",
       "      <td>The Oval</td>\n",
       "      <td>15-Aug-14</td>\n",
       "      <td>2014</td>\n",
       "    </tr>\n",
       "    <tr>\n",
       "      <th>29</th>\n",
       "      <td>115</td>\n",
       "      <td>141</td>\n",
       "      <td>256</td>\n",
       "      <td>-</td>\n",
       "      <td>-</td>\n",
       "      <td>1</td>\n",
       "      <td>0</td>\n",
       "      <td>NaN</td>\n",
       "      <td>Australia</td>\n",
       "      <td>Adelaide</td>\n",
       "      <td>9-Dec-14</td>\n",
       "      <td>2014</td>\n",
       "    </tr>\n",
       "    <tr>\n",
       "      <th>...</th>\n",
       "      <td>...</td>\n",
       "      <td>...</td>\n",
       "      <td>...</td>\n",
       "      <td>...</td>\n",
       "      <td>...</td>\n",
       "      <td>...</td>\n",
       "      <td>...</td>\n",
       "      <td>...</td>\n",
       "      <td>...</td>\n",
       "      <td>...</td>\n",
       "      <td>...</td>\n",
       "      <td>...</td>\n",
       "    </tr>\n",
       "    <tr>\n",
       "      <th>39</th>\n",
       "      <td>22</td>\n",
       "      <td>16</td>\n",
       "      <td>38</td>\n",
       "      <td>-</td>\n",
       "      <td>-</td>\n",
       "      <td>2</td>\n",
       "      <td>0</td>\n",
       "      <td>NaN</td>\n",
       "      <td>South Africa</td>\n",
       "      <td>Nagpur</td>\n",
       "      <td>25-Nov-15</td>\n",
       "      <td>2015</td>\n",
       "    </tr>\n",
       "    <tr>\n",
       "      <th>40</th>\n",
       "      <td>44</td>\n",
       "      <td>88</td>\n",
       "      <td>132</td>\n",
       "      <td>0</td>\n",
       "      <td>0</td>\n",
       "      <td>0</td>\n",
       "      <td>0</td>\n",
       "      <td>NaN</td>\n",
       "      <td>South Africa</td>\n",
       "      <td>Delhi</td>\n",
       "      <td>3-Dec-15</td>\n",
       "      <td>2015</td>\n",
       "    </tr>\n",
       "    <tr>\n",
       "      <th>41</th>\n",
       "      <td>200</td>\n",
       "      <td>0</td>\n",
       "      <td>200</td>\n",
       "      <td>-</td>\n",
       "      <td>-</td>\n",
       "      <td>2</td>\n",
       "      <td>0</td>\n",
       "      <td>NaN</td>\n",
       "      <td>West Indies</td>\n",
       "      <td>North Sound</td>\n",
       "      <td>21-Jul-16</td>\n",
       "      <td>2016</td>\n",
       "    </tr>\n",
       "    <tr>\n",
       "      <th>42</th>\n",
       "      <td>44</td>\n",
       "      <td>0</td>\n",
       "      <td>44</td>\n",
       "      <td>-</td>\n",
       "      <td>-</td>\n",
       "      <td>2</td>\n",
       "      <td>0</td>\n",
       "      <td>NaN</td>\n",
       "      <td>West Indies</td>\n",
       "      <td>Kingston</td>\n",
       "      <td>30-Jul-16</td>\n",
       "      <td>2016</td>\n",
       "    </tr>\n",
       "    <tr>\n",
       "      <th>43</th>\n",
       "      <td>3</td>\n",
       "      <td>4</td>\n",
       "      <td>7</td>\n",
       "      <td>-</td>\n",
       "      <td>-</td>\n",
       "      <td>2</td>\n",
       "      <td>0</td>\n",
       "      <td>NaN</td>\n",
       "      <td>West Indies</td>\n",
       "      <td>Gros Islet</td>\n",
       "      <td>9-Aug-16</td>\n",
       "      <td>2016</td>\n",
       "    </tr>\n",
       "    <tr>\n",
       "      <th>44</th>\n",
       "      <td>0</td>\n",
       "      <td>0</td>\n",
       "      <td>-</td>\n",
       "      <td>-</td>\n",
       "      <td>-</td>\n",
       "      <td>0</td>\n",
       "      <td>0</td>\n",
       "      <td>NaN</td>\n",
       "      <td>West Indies</td>\n",
       "      <td>Port of Spain</td>\n",
       "      <td>18-Aug-16</td>\n",
       "      <td>2016</td>\n",
       "    </tr>\n",
       "    <tr>\n",
       "      <th>45</th>\n",
       "      <td>9</td>\n",
       "      <td>18</td>\n",
       "      <td>27</td>\n",
       "      <td>-</td>\n",
       "      <td>-</td>\n",
       "      <td>0</td>\n",
       "      <td>0</td>\n",
       "      <td>NaN</td>\n",
       "      <td>New Zealand</td>\n",
       "      <td>Kanpur</td>\n",
       "      <td>22-Sep-16</td>\n",
       "      <td>2016</td>\n",
       "    </tr>\n",
       "    <tr>\n",
       "      <th>46</th>\n",
       "      <td>9</td>\n",
       "      <td>45</td>\n",
       "      <td>54</td>\n",
       "      <td>-</td>\n",
       "      <td>-</td>\n",
       "      <td>1</td>\n",
       "      <td>0</td>\n",
       "      <td>NaN</td>\n",
       "      <td>New Zealand</td>\n",
       "      <td>Kolkata</td>\n",
       "      <td>30-Sep-16</td>\n",
       "      <td>2016</td>\n",
       "    </tr>\n",
       "    <tr>\n",
       "      <th>47</th>\n",
       "      <td>211</td>\n",
       "      <td>17</td>\n",
       "      <td>228</td>\n",
       "      <td>-</td>\n",
       "      <td>-</td>\n",
       "      <td>2</td>\n",
       "      <td>0</td>\n",
       "      <td>NaN</td>\n",
       "      <td>New Zealand</td>\n",
       "      <td>Indore</td>\n",
       "      <td>8-Oct-16</td>\n",
       "      <td>2016</td>\n",
       "    </tr>\n",
       "    <tr>\n",
       "      <th>48</th>\n",
       "      <td>40</td>\n",
       "      <td>49</td>\n",
       "      <td>89</td>\n",
       "      <td>-</td>\n",
       "      <td>-</td>\n",
       "      <td>0</td>\n",
       "      <td>0</td>\n",
       "      <td>NaN</td>\n",
       "      <td>England</td>\n",
       "      <td>Rajkot</td>\n",
       "      <td>9-Nov-16</td>\n",
       "      <td>2016</td>\n",
       "    </tr>\n",
       "    <tr>\n",
       "      <th>49</th>\n",
       "      <td>167</td>\n",
       "      <td>81</td>\n",
       "      <td>248</td>\n",
       "      <td>-</td>\n",
       "      <td>-</td>\n",
       "      <td>1</td>\n",
       "      <td>0</td>\n",
       "      <td>NaN</td>\n",
       "      <td>England</td>\n",
       "      <td>Visakhapatnam</td>\n",
       "      <td>17-Nov-16</td>\n",
       "      <td>2016</td>\n",
       "    </tr>\n",
       "    <tr>\n",
       "      <th>50</th>\n",
       "      <td>62</td>\n",
       "      <td>6</td>\n",
       "      <td>68</td>\n",
       "      <td>-</td>\n",
       "      <td>-</td>\n",
       "      <td>1</td>\n",
       "      <td>0</td>\n",
       "      <td>NaN</td>\n",
       "      <td>England</td>\n",
       "      <td>Mohali</td>\n",
       "      <td>26-Nov-16</td>\n",
       "      <td>2016</td>\n",
       "    </tr>\n",
       "    <tr>\n",
       "      <th>51</th>\n",
       "      <td>235</td>\n",
       "      <td>0</td>\n",
       "      <td>235</td>\n",
       "      <td>-</td>\n",
       "      <td>-</td>\n",
       "      <td>2</td>\n",
       "      <td>0</td>\n",
       "      <td>NaN</td>\n",
       "      <td>England</td>\n",
       "      <td>Mumbai</td>\n",
       "      <td>8-Dec-16</td>\n",
       "      <td>2016</td>\n",
       "    </tr>\n",
       "    <tr>\n",
       "      <th>52</th>\n",
       "      <td>15</td>\n",
       "      <td>0</td>\n",
       "      <td>15</td>\n",
       "      <td>-</td>\n",
       "      <td>-</td>\n",
       "      <td>1</td>\n",
       "      <td>0</td>\n",
       "      <td>NaN</td>\n",
       "      <td>England</td>\n",
       "      <td>Chennai</td>\n",
       "      <td>16-Dec-16</td>\n",
       "      <td>2016</td>\n",
       "    </tr>\n",
       "    <tr>\n",
       "      <th>53</th>\n",
       "      <td>204</td>\n",
       "      <td>38</td>\n",
       "      <td>242</td>\n",
       "      <td>-</td>\n",
       "      <td>-</td>\n",
       "      <td>1</td>\n",
       "      <td>0</td>\n",
       "      <td>NaN</td>\n",
       "      <td>Bangladesh</td>\n",
       "      <td>Hyderabad (Deccan)</td>\n",
       "      <td>9-Feb-17</td>\n",
       "      <td>2017</td>\n",
       "    </tr>\n",
       "    <tr>\n",
       "      <th>54</th>\n",
       "      <td>0</td>\n",
       "      <td>13</td>\n",
       "      <td>13</td>\n",
       "      <td>-</td>\n",
       "      <td>-</td>\n",
       "      <td>2</td>\n",
       "      <td>0</td>\n",
       "      <td>NaN</td>\n",
       "      <td>Australia</td>\n",
       "      <td>Pune</td>\n",
       "      <td>23-Feb-17</td>\n",
       "      <td>2017</td>\n",
       "    </tr>\n",
       "    <tr>\n",
       "      <th>55</th>\n",
       "      <td>12</td>\n",
       "      <td>15</td>\n",
       "      <td>27</td>\n",
       "      <td>-</td>\n",
       "      <td>-</td>\n",
       "      <td>0</td>\n",
       "      <td>0</td>\n",
       "      <td>NaN</td>\n",
       "      <td>Australia</td>\n",
       "      <td>Bengaluru</td>\n",
       "      <td>4-Mar-17</td>\n",
       "      <td>2017</td>\n",
       "    </tr>\n",
       "    <tr>\n",
       "      <th>56</th>\n",
       "      <td>6</td>\n",
       "      <td>0</td>\n",
       "      <td>6</td>\n",
       "      <td>-</td>\n",
       "      <td>-</td>\n",
       "      <td>1</td>\n",
       "      <td>0</td>\n",
       "      <td>NaN</td>\n",
       "      <td>Australia</td>\n",
       "      <td>Ranchi</td>\n",
       "      <td>16-Mar-17</td>\n",
       "      <td>2017</td>\n",
       "    </tr>\n",
       "    <tr>\n",
       "      <th>57</th>\n",
       "      <td>3</td>\n",
       "      <td>103</td>\n",
       "      <td>106</td>\n",
       "      <td>-</td>\n",
       "      <td>-</td>\n",
       "      <td>2</td>\n",
       "      <td>0</td>\n",
       "      <td>NaN</td>\n",
       "      <td>Sri Lanka</td>\n",
       "      <td>Galle</td>\n",
       "      <td>26-Jul-17</td>\n",
       "      <td>2017</td>\n",
       "    </tr>\n",
       "    <tr>\n",
       "      <th>58</th>\n",
       "      <td>13</td>\n",
       "      <td>0</td>\n",
       "      <td>13</td>\n",
       "      <td>-</td>\n",
       "      <td>-</td>\n",
       "      <td>1</td>\n",
       "      <td>0</td>\n",
       "      <td>NaN</td>\n",
       "      <td>Sri Lanka</td>\n",
       "      <td>Colombo (SSC)</td>\n",
       "      <td>3-Aug-17</td>\n",
       "      <td>2017</td>\n",
       "    </tr>\n",
       "    <tr>\n",
       "      <th>59</th>\n",
       "      <td>42</td>\n",
       "      <td>0</td>\n",
       "      <td>42</td>\n",
       "      <td>-</td>\n",
       "      <td>-</td>\n",
       "      <td>0</td>\n",
       "      <td>0</td>\n",
       "      <td>NaN</td>\n",
       "      <td>Sri Lanka</td>\n",
       "      <td>Pallekele</td>\n",
       "      <td>12-Aug-17</td>\n",
       "      <td>2017</td>\n",
       "    </tr>\n",
       "    <tr>\n",
       "      <th>60</th>\n",
       "      <td>0</td>\n",
       "      <td>104</td>\n",
       "      <td>104</td>\n",
       "      <td>0</td>\n",
       "      <td>5</td>\n",
       "      <td>2</td>\n",
       "      <td>0</td>\n",
       "      <td>NaN</td>\n",
       "      <td>Sri Lanka</td>\n",
       "      <td>Kolkata</td>\n",
       "      <td>16-Nov-17</td>\n",
       "      <td>2017</td>\n",
       "    </tr>\n",
       "    <tr>\n",
       "      <th>61</th>\n",
       "      <td>213</td>\n",
       "      <td>0</td>\n",
       "      <td>213</td>\n",
       "      <td>-</td>\n",
       "      <td>-</td>\n",
       "      <td>1</td>\n",
       "      <td>0</td>\n",
       "      <td>NaN</td>\n",
       "      <td>Sri Lanka</td>\n",
       "      <td>Nagpur</td>\n",
       "      <td>24-Nov-17</td>\n",
       "      <td>2017</td>\n",
       "    </tr>\n",
       "    <tr>\n",
       "      <th>62</th>\n",
       "      <td>243</td>\n",
       "      <td>50</td>\n",
       "      <td>293</td>\n",
       "      <td>0</td>\n",
       "      <td>1</td>\n",
       "      <td>0</td>\n",
       "      <td>0</td>\n",
       "      <td>NaN</td>\n",
       "      <td>Sri Lanka</td>\n",
       "      <td>Delhi</td>\n",
       "      <td>2-Dec-17</td>\n",
       "      <td>2017</td>\n",
       "    </tr>\n",
       "    <tr>\n",
       "      <th>63</th>\n",
       "      <td>5</td>\n",
       "      <td>28</td>\n",
       "      <td>33</td>\n",
       "      <td>-</td>\n",
       "      <td>-</td>\n",
       "      <td>1</td>\n",
       "      <td>0</td>\n",
       "      <td>NaN</td>\n",
       "      <td>South Africa</td>\n",
       "      <td>Cape Town</td>\n",
       "      <td>5-Jan-18</td>\n",
       "      <td>2018</td>\n",
       "    </tr>\n",
       "    <tr>\n",
       "      <th>64</th>\n",
       "      <td>153</td>\n",
       "      <td>5</td>\n",
       "      <td>158</td>\n",
       "      <td>-</td>\n",
       "      <td>-</td>\n",
       "      <td>2</td>\n",
       "      <td>0</td>\n",
       "      <td>NaN</td>\n",
       "      <td>South Africa</td>\n",
       "      <td>Centurion</td>\n",
       "      <td>13-Jan-18</td>\n",
       "      <td>2018</td>\n",
       "    </tr>\n",
       "    <tr>\n",
       "      <th>65</th>\n",
       "      <td>54</td>\n",
       "      <td>41</td>\n",
       "      <td>95</td>\n",
       "      <td>-</td>\n",
       "      <td>-</td>\n",
       "      <td>0</td>\n",
       "      <td>0</td>\n",
       "      <td>NaN</td>\n",
       "      <td>South Africa</td>\n",
       "      <td>Johannesburg</td>\n",
       "      <td>24-Jan-18</td>\n",
       "      <td>2018</td>\n",
       "    </tr>\n",
       "    <tr>\n",
       "      <th>66</th>\n",
       "      <td>149</td>\n",
       "      <td>51</td>\n",
       "      <td>200</td>\n",
       "      <td>-</td>\n",
       "      <td>-</td>\n",
       "      <td>1</td>\n",
       "      <td>0</td>\n",
       "      <td>NaN</td>\n",
       "      <td>England</td>\n",
       "      <td>Birmingham</td>\n",
       "      <td>1-Aug-18</td>\n",
       "      <td>2018</td>\n",
       "    </tr>\n",
       "    <tr>\n",
       "      <th>67</th>\n",
       "      <td>23</td>\n",
       "      <td>17</td>\n",
       "      <td>40</td>\n",
       "      <td>-</td>\n",
       "      <td>-</td>\n",
       "      <td>0</td>\n",
       "      <td>0</td>\n",
       "      <td>NaN</td>\n",
       "      <td>England</td>\n",
       "      <td>Lord's</td>\n",
       "      <td>9-Aug-18</td>\n",
       "      <td>2018</td>\n",
       "    </tr>\n",
       "    <tr>\n",
       "      <th>68</th>\n",
       "      <td>97</td>\n",
       "      <td>103</td>\n",
       "      <td>200</td>\n",
       "      <td>-</td>\n",
       "      <td>-</td>\n",
       "      <td>1</td>\n",
       "      <td>0</td>\n",
       "      <td>NaN</td>\n",
       "      <td>England</td>\n",
       "      <td>Nottingham</td>\n",
       "      <td>18-Aug-18</td>\n",
       "      <td>2018</td>\n",
       "    </tr>\n",
       "  </tbody>\n",
       "</table>\n",
       "<p>69 rows × 12 columns</p>\n",
       "</div>"
      ],
      "text/plain": [
       "   Bat1 Bat2 Runs Wkts Conc  Ct  St  Unnamed: 7    Opposition  \\\n",
       "0     4   15   19    -    -   2   0         NaN   West Indies   \n",
       "1     0   27   27    -    -   2   0         NaN   West Indies   \n",
       "2    30    0   30    -    -   1   0         NaN   West Indies   \n",
       "3    52   63  115    0    9   2   0         NaN   West Indies   \n",
       "4    11    0   11    -    -   2   0         NaN     Australia   \n",
       "5    23    9   32    0   23   0   0         NaN     Australia   \n",
       "6    44   75  119    -    -   1   0         NaN     Australia   \n",
       "7   116   22  138    0    3   0   0         NaN     Australia   \n",
       "8    58    0   58    -    -   4   0         NaN   New Zealand   \n",
       "9   103   51  154    -    -   0   0         NaN   New Zealand   \n",
       "10   19   14   33    -    -   1   0         NaN       England   \n",
       "11   19    7   26    -    -   1   0         NaN       England   \n",
       "12    6   20   26    -    -   0   0         NaN       England   \n",
       "13  103    0  103    -    -   2   0         NaN       England   \n",
       "14  107    0  107    -    -   1   0         NaN     Australia   \n",
       "15   34    0   34    -    -   1   0         NaN     Australia   \n",
       "16   67   34  101    -    -   1   0         NaN     Australia   \n",
       "17    1   41   42    -    -   2   0         NaN     Australia   \n",
       "18    3    0    3    -    -   1   0         NaN   West Indies   \n",
       "19   57    0   57    -    -   0   0         NaN   West Indies   \n",
       "20  119   96  215    0   18   0   0         NaN  South Africa   \n",
       "21   46   11   57    -    -   1   0         NaN  South Africa   \n",
       "22    4   67   71    0    4   1   0         NaN   New Zealand   \n",
       "23   38  105  143    0   13   1   0         NaN   New Zealand   \n",
       "24    1    8    9    -    -   0   0         NaN       England   \n",
       "25   25    0   25    -    -   0   0         NaN       England   \n",
       "26   39   28   67    -    -   0   0         NaN       England   \n",
       "27    0    7    7    -    -   0   0         NaN       England   \n",
       "28    6   20   26    -    -   1   0         NaN       England   \n",
       "29  115  141  256    -    -   1   0         NaN     Australia   \n",
       "..  ...  ...  ...  ...  ...  ..  ..         ...           ...   \n",
       "39   22   16   38    -    -   2   0         NaN  South Africa   \n",
       "40   44   88  132    0    0   0   0         NaN  South Africa   \n",
       "41  200    0  200    -    -   2   0         NaN   West Indies   \n",
       "42   44    0   44    -    -   2   0         NaN   West Indies   \n",
       "43    3    4    7    -    -   2   0         NaN   West Indies   \n",
       "44    0    0    -    -    -   0   0         NaN   West Indies   \n",
       "45    9   18   27    -    -   0   0         NaN   New Zealand   \n",
       "46    9   45   54    -    -   1   0         NaN   New Zealand   \n",
       "47  211   17  228    -    -   2   0         NaN   New Zealand   \n",
       "48   40   49   89    -    -   0   0         NaN       England   \n",
       "49  167   81  248    -    -   1   0         NaN       England   \n",
       "50   62    6   68    -    -   1   0         NaN       England   \n",
       "51  235    0  235    -    -   2   0         NaN       England   \n",
       "52   15    0   15    -    -   1   0         NaN       England   \n",
       "53  204   38  242    -    -   1   0         NaN    Bangladesh   \n",
       "54    0   13   13    -    -   2   0         NaN     Australia   \n",
       "55   12   15   27    -    -   0   0         NaN     Australia   \n",
       "56    6    0    6    -    -   1   0         NaN     Australia   \n",
       "57    3  103  106    -    -   2   0         NaN     Sri Lanka   \n",
       "58   13    0   13    -    -   1   0         NaN     Sri Lanka   \n",
       "59   42    0   42    -    -   0   0         NaN     Sri Lanka   \n",
       "60    0  104  104    0    5   2   0         NaN     Sri Lanka   \n",
       "61  213    0  213    -    -   1   0         NaN     Sri Lanka   \n",
       "62  243   50  293    0    1   0   0         NaN     Sri Lanka   \n",
       "63    5   28   33    -    -   1   0         NaN  South Africa   \n",
       "64  153    5  158    -    -   2   0         NaN  South Africa   \n",
       "65   54   41   95    -    -   0   0         NaN  South Africa   \n",
       "66  149   51  200    -    -   1   0         NaN       England   \n",
       "67   23   17   40    -    -   0   0         NaN       England   \n",
       "68   97  103  200    -    -   1   0         NaN       England   \n",
       "\n",
       "                Ground Start Date  year  \n",
       "0             Kingston  20-Jun-11  2011  \n",
       "1           Bridgetown  28-Jun-11  2011  \n",
       "2               Roseau   6-Jul-11  2011  \n",
       "3               Mumbai  22-Nov-11  2011  \n",
       "4            Melbourne  26-Dec-11  2011  \n",
       "5               Sydney   3-Jan-12  2012  \n",
       "6                Perth  13-Jan-12  2012  \n",
       "7             Adelaide  24-Jan-12  2012  \n",
       "8   Hyderabad (Deccan)  23-Aug-12  2012  \n",
       "9            Bengaluru  31-Aug-12  2012  \n",
       "10           Ahmedabad  15-Nov-12  2012  \n",
       "11              Mumbai  23-Nov-12  2012  \n",
       "12             Kolkata   5-Dec-12  2012  \n",
       "13              Nagpur  13-Dec-12  2012  \n",
       "14             Chennai  22-Feb-13  2013  \n",
       "15  Hyderabad (Deccan)   2-Mar-13  2013  \n",
       "16              Mohali  14-Mar-13  2013  \n",
       "17               Delhi  22-Mar-13  2013  \n",
       "18             Kolkata   6-Nov-13  2013  \n",
       "19              Mumbai  14-Nov-13  2013  \n",
       "20        Johannesburg  18-Dec-13  2013  \n",
       "21              Durban  26-Dec-13  2013  \n",
       "22            Auckland   6-Feb-14  2014  \n",
       "23          Wellington  14-Feb-14  2014  \n",
       "24          Nottingham   9-Jul-14  2014  \n",
       "25              Lord's  17-Jul-14  2014  \n",
       "26         Southampton  27-Jul-14  2014  \n",
       "27          Manchester   7-Aug-14  2014  \n",
       "28            The Oval  15-Aug-14  2014  \n",
       "29            Adelaide   9-Dec-14  2014  \n",
       "..                 ...        ...   ...  \n",
       "39              Nagpur  25-Nov-15  2015  \n",
       "40               Delhi   3-Dec-15  2015  \n",
       "41         North Sound  21-Jul-16  2016  \n",
       "42            Kingston  30-Jul-16  2016  \n",
       "43          Gros Islet   9-Aug-16  2016  \n",
       "44       Port of Spain  18-Aug-16  2016  \n",
       "45              Kanpur  22-Sep-16  2016  \n",
       "46             Kolkata  30-Sep-16  2016  \n",
       "47              Indore   8-Oct-16  2016  \n",
       "48              Rajkot   9-Nov-16  2016  \n",
       "49       Visakhapatnam  17-Nov-16  2016  \n",
       "50              Mohali  26-Nov-16  2016  \n",
       "51              Mumbai   8-Dec-16  2016  \n",
       "52             Chennai  16-Dec-16  2016  \n",
       "53  Hyderabad (Deccan)   9-Feb-17  2017  \n",
       "54                Pune  23-Feb-17  2017  \n",
       "55           Bengaluru   4-Mar-17  2017  \n",
       "56              Ranchi  16-Mar-17  2017  \n",
       "57               Galle  26-Jul-17  2017  \n",
       "58       Colombo (SSC)   3-Aug-17  2017  \n",
       "59           Pallekele  12-Aug-17  2017  \n",
       "60             Kolkata  16-Nov-17  2017  \n",
       "61              Nagpur  24-Nov-17  2017  \n",
       "62               Delhi   2-Dec-17  2017  \n",
       "63           Cape Town   5-Jan-18  2018  \n",
       "64           Centurion  13-Jan-18  2018  \n",
       "65        Johannesburg  24-Jan-18  2018  \n",
       "66          Birmingham   1-Aug-18  2018  \n",
       "67              Lord's   9-Aug-18  2018  \n",
       "68          Nottingham  18-Aug-18  2018  \n",
       "\n",
       "[69 rows x 12 columns]"
      ]
     },
     "execution_count": 538,
     "metadata": {},
     "output_type": "execute_result"
    }
   ],
   "source": [
    "data['Opposition']=data['Opposition'].str.replace(\"v \",\"\")\n",
    "data['Bat1']=data['Bat1'].str.replace(\"DNB\",\"0\")\n",
    "data['Bat1']=data['Bat1'].str.replace(\"T0\",\"0\")\n",
    "data['Bat1']=data['Bat1'].str.replace(\"TDNB\",\"0\")\n",
    "data['Bat1']=data['Bat1'].str.replace(\"-\",\"0\")\n",
    "data['Bat1']=data['Bat1'].str.replace(\"*\",\"\")\n",
    "data['Bat2']=data['Bat2'].str.replace(\"DNB\",\"0\")\n",
    "data['Bat2']=data['Bat2'].str.replace(\"-\",\"0\")\n",
    "data['Bat2']=data['Bat2'].str.replace(\"*\",\"\")\n",
    "data\n"
   ]
  },
  {
   "cell_type": "code",
   "execution_count": 539,
   "metadata": {},
   "outputs": [
    {
     "name": "stdout",
     "output_type": "stream",
     "text": [
      "65\n"
     ]
    }
   ],
   "source": [
    "Catches = data['Ct'].sum()\n",
    "print (Catches)"
   ]
  },
  {
   "cell_type": "code",
   "execution_count": 540,
   "metadata": {},
   "outputs": [],
   "source": [
    "#Virat Kohli has take 65 catches in test matches\n"
   ]
  },
  {
   "cell_type": "code",
   "execution_count": 541,
   "metadata": {},
   "outputs": [
    {
     "data": {
      "text/plain": [
       "pandas.core.series.Series"
      ]
     },
     "execution_count": 541,
     "metadata": {},
     "output_type": "execute_result"
    }
   ],
   "source": [
    "type(data['Runs'])"
   ]
  },
  {
   "cell_type": "code",
   "execution_count": 542,
   "metadata": {},
   "outputs": [],
   "source": [
    "data['Conc']=data['Conc'].str.replace(\"-\",\"0\")"
   ]
  },
  {
   "cell_type": "code",
   "execution_count": 543,
   "metadata": {},
   "outputs": [
    {
     "name": "stdout",
     "output_type": "stream",
     "text": [
      "<class 'pandas.core.frame.DataFrame'>\n",
      "RangeIndex: 69 entries, 0 to 68\n",
      "Data columns (total 12 columns):\n",
      "Bat1          69 non-null object\n",
      "Bat2          69 non-null object\n",
      "Runs          69 non-null object\n",
      "Wkts          69 non-null object\n",
      "Conc          69 non-null int64\n",
      "Ct            69 non-null int64\n",
      "St            69 non-null int64\n",
      "Unnamed: 7    0 non-null float64\n",
      "Opposition    69 non-null object\n",
      "Ground        69 non-null object\n",
      "Start Date    69 non-null object\n",
      "year          69 non-null int64\n",
      "dtypes: float64(1), int64(4), object(7)\n",
      "memory usage: 6.5+ KB\n"
     ]
    }
   ],
   "source": [
    "data[\"Conc\"] = pd.to_numeric(data[\"Conc\"])\n",
    "data.info()"
   ]
  },
  {
   "cell_type": "code",
   "execution_count": 544,
   "metadata": {},
   "outputs": [
    {
     "name": "stdout",
     "output_type": "stream",
     "text": [
      "76\n"
     ]
    }
   ],
   "source": [
    "runcon = data['Conc'].sum()\n",
    "print (runcon)"
   ]
  },
  {
   "cell_type": "code",
   "execution_count": 545,
   "metadata": {},
   "outputs": [],
   "source": [
    "# Virat Kohli conceded 76 runs without picking any wicket"
   ]
  },
  {
   "cell_type": "code",
   "execution_count": 546,
   "metadata": {},
   "outputs": [
    {
     "name": "stdout",
     "output_type": "stream",
     "text": [
      "<class 'pandas.core.frame.DataFrame'>\n",
      "RangeIndex: 69 entries, 0 to 68\n",
      "Data columns (total 12 columns):\n",
      "Bat1          69 non-null object\n",
      "Bat2          69 non-null object\n",
      "Runs          69 non-null int64\n",
      "Wkts          69 non-null object\n",
      "Conc          69 non-null int64\n",
      "Ct            69 non-null int64\n",
      "St            69 non-null int64\n",
      "Unnamed: 7    0 non-null float64\n",
      "Opposition    69 non-null object\n",
      "Ground        69 non-null object\n",
      "Start Date    69 non-null object\n",
      "year          69 non-null int64\n",
      "dtypes: float64(1), int64(5), object(6)\n",
      "memory usage: 6.5+ KB\n"
     ]
    }
   ],
   "source": [
    "data['Runs']=data['Runs'].str.replace(\"-\",\"0\")\n",
    "data[\"Runs\"] = pd.to_numeric(data[\"Runs\"])\n",
    "data.info()"
   ]
  },
  {
   "cell_type": "code",
   "execution_count": 547,
   "metadata": {},
   "outputs": [
    {
     "name": "stdout",
     "output_type": "stream",
     "text": [
      "5994\n"
     ]
    }
   ],
   "source": [
    "runsco = data['Runs'].sum()\n",
    "print (runsco)"
   ]
  },
  {
   "cell_type": "code",
   "execution_count": 548,
   "metadata": {},
   "outputs": [],
   "source": [
    "# Virat kohli has scored 5994 runs in 69 Matches"
   ]
  },
  {
   "cell_type": "code",
   "execution_count": 549,
   "metadata": {},
   "outputs": [
    {
     "name": "stdout",
     "output_type": "stream",
     "text": [
      "1917\n"
     ]
    }
   ],
   "source": [
    "data[\"Bat2\"] = pd.to_numeric(data[\"Bat2\"])\n",
    "runsin=data['Bat2'].sum()\n",
    "print (runsin)"
   ]
  },
  {
   "cell_type": "code",
   "execution_count": 550,
   "metadata": {},
   "outputs": [],
   "source": [
    "# Virat Kohli has scored 1917 runs in second innings"
   ]
  },
  {
   "cell_type": "code",
   "execution_count": 551,
   "metadata": {},
   "outputs": [
    {
     "name": "stdout",
     "output_type": "stream",
     "text": [
      "4077\n"
     ]
    }
   ],
   "source": [
    "data[\"Bat1\"] = pd.to_numeric(data[\"Bat1\"])\n",
    "runsin=data['Bat1'].sum()\n",
    "print (runsin)\n"
   ]
  },
  {
   "cell_type": "code",
   "execution_count": 552,
   "metadata": {},
   "outputs": [],
   "source": [
    "# Virat Kohli has scored 4077 runs in first innings"
   ]
  },
  {
   "cell_type": "code",
   "execution_count": 586,
   "metadata": {},
   "outputs": [
    {
     "data": {
      "image/png": "[encoded data removed]",
      "text/plain": [
       "<Figure size 432x432 with 1 Axes>"
      ]
     },
     "metadata": {},
     "output_type": "display_data"
    }
   ],
   "source": [
    "\n",
    "slices=[data['Bat1'].sum(),data['Bat2'].sum()]\n",
    "labels=['1st Ínnings','2nd Ínnings']\n",
    "plt.pie(slices, labels=labels, autopct='%1.0f%%', pctdistance=.5, labeldistance=1.2,shadow=True)\n",
    "fig = plt.gcf()\n",
    "plt.title(\"Total Runs percentage scored in 1st innings vs 2nd Innings\", bbox={'facecolor':'1', 'pad':5})\n",
    "\n",
    "fig.set_size_inches(6,6)\n",
    "plt.show()"
   ]
  },
  {
   "cell_type": "code",
   "execution_count": 553,
   "metadata": {},
   "outputs": [
    {
     "name": "stdout",
     "output_type": "stream",
     "text": [
      "Runs Scored against England:\n"
     ]
    },
    {
     "data": {
      "text/plain": [
       "1417"
      ]
     },
     "execution_count": 553,
     "metadata": {},
     "output_type": "execute_result"
    }
   ],
   "source": [
    "print(\"Runs Scored against England:\")\n",
    "data[data[\"Opposition\"]==\"England\"].Runs.sum()"
   ]
  },
  {
   "cell_type": "code",
   "execution_count": 554,
   "metadata": {},
   "outputs": [
    {
     "name": "stdout",
     "output_type": "stream",
     "text": [
      "Runs Scored against South Africa:\n"
     ]
    },
    {
     "data": {
      "text/plain": [
       "758"
      ]
     },
     "execution_count": 554,
     "metadata": {},
     "output_type": "execute_result"
    }
   ],
   "source": [
    "print(\"Runs Scored against South Africa:\")\n",
    "data[data[\"Opposition\"]==\"South Africa\"].Runs.sum()\n"
   ]
  },
  {
   "cell_type": "code",
   "execution_count": 555,
   "metadata": {},
   "outputs": [
    {
     "name": "stdout",
     "output_type": "stream",
     "text": [
      "Runs Scored against New Zealand:\n"
     ]
    },
    {
     "data": {
      "text/plain": [
       "735"
      ]
     },
     "execution_count": 555,
     "metadata": {},
     "output_type": "execute_result"
    }
   ],
   "source": [
    "print(\"Runs Scored against New Zealand:\")\n",
    "data[data[\"Opposition\"]==\"New Zealand\"].Runs.sum()\n"
   ]
  },
  {
   "cell_type": "code",
   "execution_count": 556,
   "metadata": {},
   "outputs": [
    {
     "name": "stdout",
     "output_type": "stream",
     "text": [
      "Runs Scored against West Indies:\n"
     ]
    },
    {
     "data": {
      "text/plain": [
       "502"
      ]
     },
     "execution_count": 556,
     "metadata": {},
     "output_type": "execute_result"
    }
   ],
   "source": [
    "print(\"Runs Scored against West Indies:\")\n",
    "data[data[\"Opposition\"]==\"West Indies\"].Runs.sum()\n"
   ]
  },
  {
   "cell_type": "code",
   "execution_count": 557,
   "metadata": {},
   "outputs": [
    {
     "name": "stdout",
     "output_type": "stream",
     "text": [
      "Runs Scored against Austrailia:\n"
     ]
    },
    {
     "data": {
      "text/plain": [
       "1322"
      ]
     },
     "execution_count": 557,
     "metadata": {},
     "output_type": "execute_result"
    }
   ],
   "source": [
    "print(\"Runs Scored against Austrailia:\")\n",
    "data[data[\"Opposition\"]==\"Australia\"].Runs.sum()"
   ]
  },
  {
   "cell_type": "code",
   "execution_count": 558,
   "metadata": {},
   "outputs": [
    {
     "name": "stdout",
     "output_type": "stream",
     "text": [
      "Runs Scored against Srilanka:\n"
     ]
    },
    {
     "data": {
      "text/plain": [
       "1004"
      ]
     },
     "execution_count": 558,
     "metadata": {},
     "output_type": "execute_result"
    }
   ],
   "source": [
    "print(\"Runs Scored against Srilanka:\")\n",
    "data[data[\"Opposition\"]==\"Sri Lanka\"].Runs.sum()\n"
   ]
  },
  {
   "cell_type": "code",
   "execution_count": 593,
   "metadata": {},
   "outputs": [
    {
     "name": "stdout",
     "output_type": "stream",
     "text": [
      "Runs Scored against Bangladesh:\n"
     ]
    },
    {
     "data": {
      "text/plain": [
       "256"
      ]
     },
     "execution_count": 593,
     "metadata": {},
     "output_type": "execute_result"
    }
   ],
   "source": [
    "print(\"Runs Scored against Bangladesh:\")\n",
    "data[data[\"Opposition\"]==\"Bangladesh\"].Runs.sum()"
   ]
  },
  {
   "cell_type": "code",
   "execution_count": 611,
   "metadata": {},
   "outputs": [
    {
     "data": {
      "image/png": "[encoded data removed]",
      "text/plain": [
       "<Figure size 432x432 with 1 Axes>"
      ]
     },
     "metadata": {},
     "output_type": "display_data"
    }
   ],
   "source": [
    "slices=[data[data[\"Opposition\"]==\"Sri Lanka\"].Runs.sum(),\n",
    "        data[data[\"Opposition\"]==\"Australia\"].Runs.sum(),\n",
    "        data[data[\"Opposition\"]==\"West Indies\"].Runs.sum(),\n",
    "        data[data[\"Opposition\"]==\"New Zealand\"].Runs.sum(),\n",
    "        data[data[\"Opposition\"]==\"England\"].Runs.sum(),\n",
    "       data[data[\"Opposition\"]==\"South Africa\"].Runs.sum(),\n",
    "       data[data[\"Opposition\"]==\"Bangladesh\"].Runs.sum(),]\n",
    "labels=['Sri Lanka','Australia','West Indies','New Zealand','England','South Africa','Bangladesh']\n",
    "colors = ['#3333cc','#ffff1a','#ff3333','#c2c2d6','#6699ff','#c4ff4d','#339933']\n",
    "plt.pie(slices,colors=colors, labels=labels, autopct='%1.0f%%', pctdistance=.5, labeldistance=1.2,shadow=True)\n",
    "fig = plt.gcf()\n",
    "plt.title(\"Total Runs percentage scored against each team\", bbox={'facecolor':'1', 'pad':5})\n",
    "\n",
    "fig.set_size_inches(6,6)\n",
    "plt.show()"
   ]
  },
  {
   "cell_type": "code",
   "execution_count": 596,
   "metadata": {},
   "outputs": [
    {
     "name": "stdout",
     "output_type": "stream",
     "text": [
      "No. of Centuries Scored by Virat Kohli in 1st Innings is:\n",
      "18\n"
     ]
    }
   ],
   "source": [
    "count1=data[data[\"Bat1\"]>=100].shape[0]\n",
    "print(\"No. of Centuries Scored by Virat Kohli in 1st Innings is:\")\n",
    "print (count1)"
   ]
  },
  {
   "cell_type": "code",
   "execution_count": 560,
   "metadata": {},
   "outputs": [
    {
     "name": "stdout",
     "output_type": "stream",
     "text": [
      "No. of Centuries Scored by Virat Kohli in 2nd Innings is:\n",
      "18\n"
     ]
    }
   ],
   "source": [
    "count2=data[data[\"Bat2\"]>=100].shape[0]\n",
    "print(\"No. of Centuries Scored by Virat Kohli in 2nd Innings is:\")\n",
    "print (count1)"
   ]
  },
  {
   "cell_type": "code",
   "execution_count": 561,
   "metadata": {},
   "outputs": [
    {
     "name": "stdout",
     "output_type": "stream",
     "text": [
      "Total No. of Centuries Scored by Virat Kohli\n",
      "23\n"
     ]
    }
   ],
   "source": [
    "count1=data[data[\"Bat1\"]>=100].shape[0]\n",
    "count2=data[data[\"Bat2\"]>=100].shape[0]\n",
    "count_Total=count1 + count2\n",
    "print(\"Total No. of Centuries Scored by Virat Kohli\")\n",
    "print (count_Total)"
   ]
  },
  {
   "cell_type": "code",
   "execution_count": null,
   "metadata": {},
   "outputs": [],
   "source": []
  },
  {
   "cell_type": "code",
   "execution_count": 562,
   "metadata": {},
   "outputs": [
    {
     "data": {
      "image/png": "[encoded data removed]",
      "text/plain": [
       "<Figure size 432x288 with 1 Axes>"
      ]
     },
     "metadata": {},
     "output_type": "display_data"
    },
    {
     "data": {
      "text/plain": [
       "<Figure size 1440x1152 with 0 Axes>"
      ]
     },
     "metadata": {},
     "output_type": "display_data"
    }
   ],
   "source": [
    "sns.countplot(y=data[\"Opposition\"])\n",
    "plt.title(\"No. of Matches played against each team\")\n",
    "plt.figure(figsize=(20,16))\n",
    "\n",
    "plt.show()"
   ]
  },
  {
   "cell_type": "code",
   "execution_count": 563,
   "metadata": {},
   "outputs": [
    {
     "data": {
      "text/plain": [
       "<Figure size 720x432 with 0 Axes>"
      ]
     },
     "execution_count": 563,
     "metadata": {},
     "output_type": "execute_result"
    },
    {
     "data": {
      "image/png": "[encoded data removed]",
      "text/plain": [
       "<Figure size 432x288 with 1 Axes>"
      ]
     },
     "metadata": {},
     "output_type": "display_data"
    },
    {
     "data": {
      "text/plain": [
       "<Figure size 720x432 with 0 Axes>"
      ]
     },
     "metadata": {},
     "output_type": "display_data"
    }
   ],
   "source": [
    "sns.countplot(x=data[\"year\"])\n",
    "plt.title(\"No. of Matches played each year\")\n",
    "plt.figure(figsize=(10,6))"
   ]
  },
  {
   "cell_type": "code",
   "execution_count": 564,
   "metadata": {},
   "outputs": [
    {
     "data": {
      "text/plain": [
       "<matplotlib.axes._subplots.AxesSubplot at 0x2136f54fe10>"
      ]
     },
     "execution_count": 564,
     "metadata": {},
     "output_type": "execute_result"
    },
    {
     "data": {
      "image/png": "[encoded data removed]",
      "text/plain": [
       "<Figure size 1152x576 with 1 Axes>"
      ]
     },
     "metadata": {},
     "output_type": "display_data"
    }
   ],
   "source": [
    "fig = plt.figure(figsize=(16,8))  \n",
    "fig.add_subplot(221)\n",
    "data.groupby('Opposition').Runs.sum().plot(kind='bar',title='runs scored against each team')"
   ]
  },
  {
   "cell_type": "code",
   "execution_count": 565,
   "metadata": {},
   "outputs": [
    {
     "data": {
      "text/plain": [
       "<matplotlib.axes._subplots.AxesSubplot at 0x2136f545f28>"
      ]
     },
     "execution_count": 565,
     "metadata": {},
     "output_type": "execute_result"
    },
    {
     "data": {
      "image/png": "[encoded data removed]",
      "text/plain": [
       "<Figure size 1440x1152 with 1 Axes>"
      ]
     },
     "metadata": {},
     "output_type": "display_data"
    }
   ],
   "source": [
    "fig = plt.figure(figsize=(20,16))  \n",
    "fig.add_subplot(221)\n",
    "data.groupby('year').Runs.sum().plot(marker='o',title='runs scored against each year')"
   ]
  },
  {
   "cell_type": "code",
   "execution_count": 566,
   "metadata": {},
   "outputs": [
    {
     "data": {
      "text/plain": [
       "<matplotlib.axes._subplots.AxesSubplot at 0x2136f54fcf8>"
      ]
     },
     "execution_count": 566,
     "metadata": {},
     "output_type": "execute_result"
    },
    {
     "data": {
      "image/png": "[encoded data removed]",
      "text/plain": [
       "<Figure size 1728x864 with 1 Axes>"
      ]
     },
     "metadata": {},
     "output_type": "display_data"
    }
   ],
   "source": [
    "fig = plt.figure(figsize=(24,12))  \n",
    "ax=fig.add_subplot(221)\n",
    "data.groupby('Ground').Runs.sum().plot(kind='bar',title='runs scored at each venue')"
   ]
  },
  {
   "cell_type": "code",
   "execution_count": 567,
   "metadata": {},
   "outputs": [
    {
     "name": "stdout",
     "output_type": "stream",
     "text": [
      "Total venues played at: 43\n"
     ]
    }
   ],
   "source": [
    "print('Total venues played at:',data['Ground'].nunique())"
   ]
  },
  {
   "cell_type": "code",
   "execution_count": 568,
   "metadata": {},
   "outputs": [
    {
     "data": {
      "text/plain": [
       "<matplotlib.axes._subplots.AxesSubplot at 0x2136f00fda0>"
      ]
     },
     "execution_count": 568,
     "metadata": {},
     "output_type": "execute_result"
    },
    {
     "data": {
      "image/png": "[encoded data removed]",
      "text/plain": [
       "<Figure size 1152x576 with 1 Axes>"
      ]
     },
     "metadata": {},
     "output_type": "display_data"
    }
   ],
   "source": [
    "Inn1=data[\"Bat1\"]>=100\n",
    "data1=data[Inn1]\n",
    "fig = plt.figure(figsize=(16,8))  \n",
    "fig.add_subplot(221)\n",
    "data1.groupby('Opposition').Bat1.count().plot(kind='bar',title='Centuries in 1st innings')"
   ]
  },
  {
   "cell_type": "code",
   "execution_count": 569,
   "metadata": {},
   "outputs": [
    {
     "data": {
      "text/plain": [
       "<matplotlib.axes._subplots.AxesSubplot at 0x2136f2e17b8>"
      ]
     },
     "execution_count": 569,
     "metadata": {},
     "output_type": "execute_result"
    },
    {
     "data": {
      "image/png": "[encoded data removed]",
      "text/plain": [
       "<Figure size 1152x576 with 1 Axes>"
      ]
     },
     "metadata": {},
     "output_type": "display_data"
    }
   ],
   "source": [
    "Inn2=data[\"Bat2\"]>=100\n",
    "data1=data[Inn2]\n",
    "fig = plt.figure(figsize=(16,8))  \n",
    "fig.add_subplot(221)\n",
    "data1.groupby('Opposition').Bat2.count().plot(kind='bar',title='Centuries in 2nd innings')"
   ]
  },
  {
   "cell_type": "code",
   "execution_count": 570,
   "metadata": {},
   "outputs": [
    {
     "data": {
      "text/plain": [
       "<matplotlib.axes._subplots.AxesSubplot at 0x2136f604a90>"
      ]
     },
     "execution_count": 570,
     "metadata": {},
     "output_type": "execute_result"
    },
    {
     "data": {
      "image/png": "[encoded data removed]",
      "text/plain": [
       "<Figure size 1152x576 with 1 Axes>"
      ]
     },
     "metadata": {},
     "output_type": "display_data"
    }
   ],
   "source": [
    "fig = plt.figure(figsize=(16,8))  \n",
    "fig.add_subplot(221)\n",
    "data.groupby('Opposition').Ct.sum().plot(kind='bar',title='Catches Taken')"
   ]
  },
  {
   "cell_type": "code",
   "execution_count": 571,
   "metadata": {},
   "outputs": [
    {
     "data": {
      "text/html": [
       "<div>\n",
       "<style scoped>\n",
       "    .dataframe tbody tr th:only-of-type {\n",
       "        vertical-align: middle;\n",
       "    }\n",
       "\n",
       "    .dataframe tbody tr th {\n",
       "        vertical-align: top;\n",
       "    }\n",
       "\n",
       "    .dataframe thead th {\n",
       "        text-align: right;\n",
       "    }\n",
       "</style>\n",
       "<table border=\"1\" class=\"dataframe\">\n",
       "  <thead>\n",
       "    <tr style=\"text-align: right;\">\n",
       "      <th></th>\n",
       "      <th>Bat1</th>\n",
       "      <th>Bat2</th>\n",
       "      <th>Runs</th>\n",
       "      <th>Wkts</th>\n",
       "      <th>Conc</th>\n",
       "      <th>Ct</th>\n",
       "      <th>St</th>\n",
       "      <th>Unnamed: 7</th>\n",
       "      <th>Opposition</th>\n",
       "      <th>Ground</th>\n",
       "      <th>Start Date</th>\n",
       "      <th>year</th>\n",
       "    </tr>\n",
       "  </thead>\n",
       "  <tbody>\n",
       "    <tr>\n",
       "      <th>41</th>\n",
       "      <td>200</td>\n",
       "      <td>0</td>\n",
       "      <td>200</td>\n",
       "      <td>-</td>\n",
       "      <td>0</td>\n",
       "      <td>2</td>\n",
       "      <td>0</td>\n",
       "      <td>NaN</td>\n",
       "      <td>West Indies</td>\n",
       "      <td>North Sound</td>\n",
       "      <td>21-Jul-16</td>\n",
       "      <td>2016</td>\n",
       "    </tr>\n",
       "    <tr>\n",
       "      <th>47</th>\n",
       "      <td>211</td>\n",
       "      <td>17</td>\n",
       "      <td>228</td>\n",
       "      <td>-</td>\n",
       "      <td>0</td>\n",
       "      <td>2</td>\n",
       "      <td>0</td>\n",
       "      <td>NaN</td>\n",
       "      <td>New Zealand</td>\n",
       "      <td>Indore</td>\n",
       "      <td>8-Oct-16</td>\n",
       "      <td>2016</td>\n",
       "    </tr>\n",
       "    <tr>\n",
       "      <th>51</th>\n",
       "      <td>235</td>\n",
       "      <td>0</td>\n",
       "      <td>235</td>\n",
       "      <td>-</td>\n",
       "      <td>0</td>\n",
       "      <td>2</td>\n",
       "      <td>0</td>\n",
       "      <td>NaN</td>\n",
       "      <td>England</td>\n",
       "      <td>Mumbai</td>\n",
       "      <td>8-Dec-16</td>\n",
       "      <td>2016</td>\n",
       "    </tr>\n",
       "    <tr>\n",
       "      <th>53</th>\n",
       "      <td>204</td>\n",
       "      <td>38</td>\n",
       "      <td>242</td>\n",
       "      <td>-</td>\n",
       "      <td>0</td>\n",
       "      <td>1</td>\n",
       "      <td>0</td>\n",
       "      <td>NaN</td>\n",
       "      <td>Bangladesh</td>\n",
       "      <td>Hyderabad (Deccan)</td>\n",
       "      <td>9-Feb-17</td>\n",
       "      <td>2017</td>\n",
       "    </tr>\n",
       "    <tr>\n",
       "      <th>61</th>\n",
       "      <td>213</td>\n",
       "      <td>0</td>\n",
       "      <td>213</td>\n",
       "      <td>-</td>\n",
       "      <td>0</td>\n",
       "      <td>1</td>\n",
       "      <td>0</td>\n",
       "      <td>NaN</td>\n",
       "      <td>Sri Lanka</td>\n",
       "      <td>Nagpur</td>\n",
       "      <td>24-Nov-17</td>\n",
       "      <td>2017</td>\n",
       "    </tr>\n",
       "    <tr>\n",
       "      <th>62</th>\n",
       "      <td>243</td>\n",
       "      <td>50</td>\n",
       "      <td>293</td>\n",
       "      <td>0</td>\n",
       "      <td>1</td>\n",
       "      <td>0</td>\n",
       "      <td>0</td>\n",
       "      <td>NaN</td>\n",
       "      <td>Sri Lanka</td>\n",
       "      <td>Delhi</td>\n",
       "      <td>2-Dec-17</td>\n",
       "      <td>2017</td>\n",
       "    </tr>\n",
       "  </tbody>\n",
       "</table>\n",
       "</div>"
      ],
      "text/plain": [
       "    Bat1  Bat2  Runs Wkts  Conc  Ct  St  Unnamed: 7   Opposition  \\\n",
       "41   200     0   200    -     0   2   0         NaN  West Indies   \n",
       "47   211    17   228    -     0   2   0         NaN  New Zealand   \n",
       "51   235     0   235    -     0   2   0         NaN      England   \n",
       "53   204    38   242    -     0   1   0         NaN   Bangladesh   \n",
       "61   213     0   213    -     0   1   0         NaN    Sri Lanka   \n",
       "62   243    50   293    0     1   0   0         NaN    Sri Lanka   \n",
       "\n",
       "                Ground Start Date  year  \n",
       "41         North Sound  21-Jul-16  2016  \n",
       "47              Indore   8-Oct-16  2016  \n",
       "51              Mumbai   8-Dec-16  2016  \n",
       "53  Hyderabad (Deccan)   9-Feb-17  2017  \n",
       "61              Nagpur  24-Nov-17  2017  \n",
       "62               Delhi   2-Dec-17  2017  "
      ]
     },
     "execution_count": 571,
     "metadata": {},
     "output_type": "execute_result"
    }
   ],
   "source": [
    "Inn1=data[\"Bat1\"]>=200\n",
    "data[Inn1]\n",
    "\n",
    "\n"
   ]
  },
  {
   "cell_type": "code",
   "execution_count": 572,
   "metadata": {},
   "outputs": [
    {
     "name": "stdout",
     "output_type": "stream",
     "text": [
      "No. of Double Centuries Score by Virat Kohli in 1st innings\n"
     ]
    },
    {
     "data": {
      "text/plain": [
       "6"
      ]
     },
     "execution_count": 572,
     "metadata": {},
     "output_type": "execute_result"
    }
   ],
   "source": [
    "print (\"No. of Double Centuries Score by Virat Kohli in 1st innings\")\n",
    "data[Inn1].shape[0]\n"
   ]
  },
  {
   "cell_type": "code",
   "execution_count": 573,
   "metadata": {},
   "outputs": [
    {
     "name": "stdout",
     "output_type": "stream",
     "text": [
      "No. of Double Centuries Score by Virat Kohli in 2nd innings\n"
     ]
    },
    {
     "data": {
      "text/plain": [
       "0"
      ]
     },
     "execution_count": 573,
     "metadata": {},
     "output_type": "execute_result"
    }
   ],
   "source": [
    "Inn2=data[\"Bat2\"]>=200\n",
    "print (\"No. of Double Centuries Score by Virat Kohli in 2nd innings\")\n",
    "data[Inn2].shape[0]"
   ]
  },
  {
   "cell_type": "code",
   "execution_count": 574,
   "metadata": {},
   "outputs": [],
   "source": [
    "#Virat Kohli has scored 0 double centuries in 1st innings"
   ]
  },
  {
   "cell_type": "code",
   "execution_count": 585,
   "metadata": {},
   "outputs": [
    {
     "data": {
      "image/png": "[encoded data removed]",
      "text/plain": [
       "<Figure size 432x432 with 1 Axes>"
      ]
     },
     "metadata": {},
     "output_type": "display_data"
    }
   ],
   "source": []
  },
  {
   "cell_type": "code",
   "execution_count": null,
   "metadata": {},
   "outputs": [],
   "source": []
  }
 ],
 "metadata": {
  "kernelspec": {
   "display_name": "Python 3",
   "language": "python",
   "name": "python3"
  },
  "language_info": {
   "codemirror_mode": {
    "name": "ipython",
    "version": 3
   },
   "file_extension": ".py",
   "mimetype": "text/x-python",
   "name": "python",
   "nbconvert_exporter": "python",
   "pygments_lexer": "ipython3",
   "version": "3.6.5"
  }
 },
 "nbformat": 4,
 "nbformat_minor": 2
}
